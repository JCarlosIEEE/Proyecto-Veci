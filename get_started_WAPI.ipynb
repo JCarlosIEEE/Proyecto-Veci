{
 "cells": [
  {
   "cell_type": "code",
   "execution_count": 1,
   "metadata": {},
   "outputs": [],
   "source": [
    "import requests"
   ]
  },
  {
   "cell_type": "code",
   "execution_count": null,
   "metadata": {},
   "outputs": [],
   "source": [
    "from requests.structures import CaseInsensitiveDict\n",
    "\n",
    "url = \"https://graph.facebook.com/v13.0/105401715602985/messages\"\n",
    "\n",
    "headers = CaseInsensitiveDict()\n",
    "headers[\"Accept\"] = \"application/json\"\n",
    "headers[\"Authorization\"] = \"Bearer EAAGXaI3xzRMBAHCqYEiZBsFjS42q2FIZCE9VGuJeUFuvyz9ZAackgPbh9GZBVe5R4wp6rLFYZBL8i86YME1UvAzAifVjvrJBETn6ZBGksgdCANeUSQq9G4QtDA564cHZCivZAHNtiWl0WzYWBVhFDMBIXE7YXz5aDPxSFRishcRR7edUylolQ3ihUZCr1p9xVsjgSI1WZBkZCYU72f3793ZCpcdZAyI8WOOZA8E18ZD\"\n",
    "headers['Content-Type']= \"application/json\"\n",
    "\n",
    "\n",
    "resp = requests.get(url, headers=headers)\n",
    "\n",
    "print(resp.status_code)"
   ]
  }
 ],
 "metadata": {
  "kernelspec": {
   "display_name": "Python 3.8.3 64-bit",
   "language": "python",
   "name": "python3"
  },
  "language_info": {
   "codemirror_mode": {
    "name": "ipython",
    "version": 3
   },
   "file_extension": ".py",
   "mimetype": "text/x-python",
   "name": "python",
   "nbconvert_exporter": "python",
   "pygments_lexer": "ipython3",
   "version": "3.8.3"
  },
  "orig_nbformat": 4,
  "vscode": {
   "interpreter": {
    "hash": "b701f30eb8ea24fa1fe0766de9088c89f5d7a68e6ffe9161a584792b67a3b157"
   }
  }
 },
 "nbformat": 4,
 "nbformat_minor": 2
}
